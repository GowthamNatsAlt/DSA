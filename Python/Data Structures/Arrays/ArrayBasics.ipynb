{
 "cells": [
  {
   "cell_type": "markdown",
   "metadata": {},
   "source": [
    "# Array Initialization"
   ]
  },
  {
   "cell_type": "code",
   "execution_count": 17,
   "metadata": {},
   "outputs": [],
   "source": [
    "class Array:\n",
    "  def __init__(self) -> None:\n",
    "    self.length = 0\n",
    "    self.data = {}\n",
    "\n",
    "  # Get an element from the index\n",
    "  def get(self, index) -> any:\n",
    "    return self.data[index]\n",
    "  \n",
    "  # Insert an element to the end of the array -> O(1)\n",
    "  def push(self, item) -> int:\n",
    "    self.data[self.length] = item\n",
    "    self.length += 1\n",
    "    return self.length\n",
    "\n",
    "  # Remove item from end of array -> O(1)\n",
    "  def pop(self) -> any:\n",
    "    lastItem = self.data[self.length - 1]\n",
    "    del self.data[self.length - 1]\n",
    "    self.length -= 1\n",
    "    return lastItem\n",
    "  \n",
    "  # Remove item at an index -> O(N)\n",
    "  def delete(self, index) -> any:\n",
    "    item = self.data[index]\n",
    "    self.__shiftItems(index)\n",
    "    return item\n",
    "\n",
    "  # double underscore is for defining private methods\n",
    "  # Shift items on deletion\n",
    "  def __shiftItems(self, index) -> None:\n",
    "    for i in range(index, self.length - 1):\n",
    "      self.data[i] = self.data[i + 1]\n",
    "      del self.data[self.length - 1]\n",
    "      self.length -= 1\n",
    "\n",
    "  # Custom object printing\n",
    "  def __repr__(self):\n",
    "    return f\"{{Length: {self.length}, Data: {self.data}}}\""
   ]
  },
  {
   "cell_type": "code",
   "execution_count": 18,
   "metadata": {},
   "outputs": [
    {
     "name": "stdout",
     "output_type": "stream",
     "text": [
      "{Length: 6, Data: {0: 'h1', 1: 'h2', 2: 'h3', 3: 'h4', 4: 'h5', 5: 'h6'}}\n",
      "h6\n",
      "{Length: 5, Data: {0: 'h1', 1: 'h2', 2: 'h3', 3: 'h4', 4: 'h5'}}\n",
      "h4\n",
      "{Length: 4, Data: {0: 'h1', 1: 'h2', 2: 'h3', 3: 'h5'}}\n"
     ]
    }
   ],
   "source": [
    "newArray = Array()\n",
    "\n",
    "newArray.push(\"h1\")\n",
    "newArray.push(\"h2\")\n",
    "newArray.push(\"h3\")\n",
    "newArray.push(\"h4\")\n",
    "newArray.push(\"h5\")\n",
    "newArray.push(\"h6\")\n",
    "print(newArray)\n",
    "\n",
    "print(newArray.pop())\n",
    "print(newArray)\n",
    "\n",
    "print(newArray.delete(3))\n",
    "print(newArray)"
   ]
  },
  {
   "cell_type": "code",
   "execution_count": null,
   "metadata": {},
   "outputs": [],
   "source": []
  }
 ],
 "metadata": {
  "kernelspec": {
   "display_name": "neg-1",
   "language": "python",
   "name": "python3"
  },
  "language_info": {
   "codemirror_mode": {
    "name": "ipython",
    "version": 3
   },
   "file_extension": ".py",
   "mimetype": "text/x-python",
   "name": "python",
   "nbconvert_exporter": "python",
   "pygments_lexer": "ipython3",
   "version": "3.10.13"
  }
 },
 "nbformat": 4,
 "nbformat_minor": 2
}
