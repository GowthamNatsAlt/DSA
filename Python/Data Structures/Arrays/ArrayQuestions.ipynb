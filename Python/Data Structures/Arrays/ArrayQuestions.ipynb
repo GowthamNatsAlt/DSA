{
 "cells": [
  {
   "cell_type": "markdown",
   "metadata": {},
   "source": [
    "Reverse a String"
   ]
  },
  {
   "cell_type": "code",
   "execution_count": 7,
   "metadata": {},
   "outputs": [],
   "source": [
    "# O(N) time and space using looping backwards and joining\n",
    "def reverse_string1(string):\n",
    "  if type(string) == str and len(string) >= 2:\n",
    "    backwards = []\n",
    "    for i in range(len(string) - 1, -1, -1):\n",
    "      backwards.append(string[i])\n",
    "    return backwards.join('')\n",
    "  return \"Not possible\"\n",
    "\n",
    "# O(N) time and space using array reversal\n",
    "def reverse_string2(string):\n",
    "  if type(string) == str and len(string) >= 2:\n",
    "    return str.split('').reverse().join('')\n",
    "  return \"Not possible\"\n",
    "\n",
    "# O(1) time and space using string slicing\n",
    "def reverse_string3(string):\n",
    "  if type(string) == str and len(string) >= 2:\n",
    "    return string[::-1]\n",
    "  return \"Not possible\"\n",
    "\n",
    "reverse_string3(\"hello\")"
   ]
  },
  {
   "cell_type": "markdown",
   "metadata": {},
   "source": [
    "Merge Sorted Arrays"
   ]
  },
  {
   "cell_type": "code",
   "execution_count": 19,
   "metadata": {},
   "outputs": [
    {
     "data": {
      "text/plain": [
       "[0, 3, 4, 4, 6, 30, 31]"
      ]
     },
     "execution_count": 19,
     "metadata": {},
     "output_type": "execute_result"
    }
   ],
   "source": [
    "# O (M + N) space and O((M+N) log(M+N)) time using array concatenation and sort function\n",
    "def merge_sorted_arrays1(arr1, arr2):\n",
    "  merged_array = arr1 + arr2\n",
    "  merged_array.sort()\n",
    "  return merged_array\n",
    "\n",
    "# O (M + N) space and time using traversal based insertion\n",
    "def merge_sorted_arrays2(arr1, arr2):\n",
    "  merged_array = []\n",
    "  i1, i2 = 0, 0\n",
    "\n",
    "  # Iterate and add over the common number of elements in both arrays\n",
    "  while i1 < len(arr1) and i2 < len(arr2):\n",
    "    if arr1[i1] < arr2[i2]:\n",
    "      merged_array.append(arr1[i1])\n",
    "      i1 += 1\n",
    "    else:\n",
    "      merged_array.append(arr2[i2])\n",
    "      i2 += 1\n",
    "\n",
    "  # Iterate and add the remaining elements in any one of it\n",
    "  while i1 < len(arr1):\n",
    "    merged_array.append(arr1[i1])\n",
    "    i1 += 1\n",
    "  while i2 < len(arr2):\n",
    "    merged_array.append(arr2[i2])\n",
    "    i2 += 1\n",
    "\n",
    "  return merged_array\n",
    "\n",
    "merge_sorted_arrays2([0, 3, 4, 31], [4, 6, 30])"
   ]
  },
  {
   "cell_type": "markdown",
   "metadata": {},
   "source": [
    "Two Sum -> Return indices of 2 numbers that add up to the target (only one instance possible)"
   ]
  },
  {
   "cell_type": "code",
   "execution_count": 8,
   "metadata": {},
   "outputs": [
    {
     "data": {
      "text/plain": [
       "[0, 1]"
      ]
     },
     "execution_count": 8,
     "metadata": {},
     "output_type": "execute_result"
    }
   ],
   "source": [
    "# O(N^2) time and O(1) space using array traversal\n",
    "def two_sum1(arr, target):\n",
    "  if len(arr) >= 2:\n",
    "    for i in range(0, len(arr) - 1):\n",
    "      for j in range(i + 1, len(arr)):\n",
    "        if arr[i] + arr[j] == target:\n",
    "          return [i, j]\n",
    "  return \"Impossible\"\n",
    "\n",
    "# O(NlogN) time [O(NlogN) for sorting and O(N) for two pointer approach]\n",
    "# O(1) space using sorting and two pointer approach\n",
    "def two_sum2(arr, target):\n",
    "  if len(arr) >= 2:\n",
    "    arr.sort()\n",
    "    front, rear = 0, len(arr) - 1\n",
    "    while front != rear:\n",
    "      if arr[front] + arr[rear] == target:\n",
    "        return [front, rear]\n",
    "      elif arr[front] + arr[rear] < target:\n",
    "        front += 1\n",
    "      else:\n",
    "        rear -= 1\n",
    "  return \"Impossible\"\n",
    "\n",
    "# O(N) time and space using hash mapping\n",
    "# 'in' takes O(1) in set/dict and O(N) in list\n",
    "def two_sum3(arr, target):\n",
    "  mapping = {}\n",
    "  for i in range(len(arr)):\n",
    "    complement = target - arr[i]\n",
    "    if complement in mapping:\n",
    "      return [mapping[complement], i]\n",
    "    mapping[arr[i]] = i\n",
    "  return \"Impossible\"\n",
    "\n",
    "two_sum3([2,7,11,15], 9)"
   ]
  },
  {
   "cell_type": "markdown",
   "metadata": {},
   "source": [
    "Maximum Subarray -> Find subarray with largest sum"
   ]
  },
  {
   "cell_type": "code",
   "execution_count": 9,
   "metadata": {},
   "outputs": [
    {
     "data": {
      "text/plain": [
       "21"
      ]
     },
     "execution_count": 9,
     "metadata": {},
     "output_type": "execute_result"
    }
   ],
   "source": [
    "# O(N^2) time and O(1) space using brute force\n",
    "def max_subarray1(arr):\n",
    "  ans = -float(\"inf\")\n",
    "  for i in range(len(arr)):\n",
    "    curr_sum = 0\n",
    "    for j in range(i, len(arr)):\n",
    "      curr_sum += arr[j]\n",
    "      ans = max(ans, curr_sum)\n",
    "  return ans\n",
    "\n",
    "# O(N^2) time and O(N) space using recursion (picking continuous elements if necessary)\n",
    "def max_subarray2(arr):\n",
    "  def solve(i, must_pick):\n",
    "    if i >= len(arr):\n",
    "      if must_pick:\n",
    "        return 0\n",
    "      return -float(\"inf\")\n",
    "    if must_pick:\n",
    "      return max(arr[i] + solve(i + 1, True), 0)\n",
    "    return solve(i + 1, False)\n",
    "  \n",
    "  return solve(0, False)\n",
    "\n",
    "# O(NlogN) time and O(logN) space using divide and conquer\n",
    "def max_subarray3(arr):\n",
    "\n",
    "  def get_sub_array(arr, front, rear):\n",
    "    if front > rear:\n",
    "      return -float(\"inf\")\n",
    "    mid, front_sum, rear_sum, curr_sum = (front + rear)//2, 0, 0, 0\n",
    "    # Get maximum sum on left side\n",
    "    for i in range(mid - 1, front - 1, -1):\n",
    "      curr_sum = curr_sum + arr[i]\n",
    "      front_sum = max(front_sum, curr_sum)\n",
    "    curr_sum = 0\n",
    "    # Get maximum sum on right side\n",
    "    for i in range(mid + 1, rear + 1):\n",
    "      curr_sum = curr_sum + arr[i]\n",
    "      rear_sum = max(rear_sum, curr_sum)\n",
    "    # Compare the left, right and overall sum\n",
    "    return max(get_sub_array(arr, front, mid-1), get_sub_array(arr, mid+1, rear), front_sum + arr[mid] + rear_sum)\n",
    "  \n",
    "  return get_sub_array(arr, 0, len(arr) - 1)\n",
    "\n",
    "max_subarray3([-1, 3, 7, 2, 9, -4, -10])"
   ]
  },
  {
   "cell_type": "markdown",
   "metadata": {},
   "source": [
    "Move Zeroes to the End (Inplace)"
   ]
  },
  {
   "cell_type": "code",
   "execution_count": 11,
   "metadata": {},
   "outputs": [
    {
     "data": {
      "text/plain": [
       "[3, 1, 2, 8, 0, 0]"
      ]
     },
     "execution_count": 11,
     "metadata": {},
     "output_type": "execute_result"
    }
   ],
   "source": [
    "# O(N) time and O(1) space with two pointer approach\n",
    "def move_zeroes(arr):\n",
    "  anchor = 0\n",
    "  for explorer in range(len(arr)):\n",
    "    if arr[explorer] != 0:\n",
    "      arr[anchor], arr[explorer] = arr[explorer], arr[anchor]\n",
    "      anchor += 1\n",
    "  return arr\n",
    "\n",
    "move_zeroes([3, 0, 1, 2, 0, 8])"
   ]
  },
  {
   "cell_type": "markdown",
   "metadata": {},
   "source": [
    "Contains Duplicates"
   ]
  },
  {
   "cell_type": "code",
   "execution_count": 14,
   "metadata": {},
   "outputs": [
    {
     "data": {
      "text/plain": [
       "True"
      ]
     },
     "execution_count": 14,
     "metadata": {},
     "output_type": "execute_result"
    }
   ],
   "source": [
    "# O(N) space and time complexity (Set creation)\n",
    "def contains_duplicates(arr):\n",
    "  return len(set(arr)) != len(arr)\n",
    "\n",
    "contains_duplicates([3, 0, 1, 2, 0, 8])"
   ]
  },
  {
   "cell_type": "markdown",
   "metadata": {},
   "source": [
    "Rotate Array by K steps (right)"
   ]
  },
  {
   "cell_type": "code",
   "execution_count": 24,
   "metadata": {},
   "outputs": [
    {
     "data": {
      "text/plain": [
       "[5, 6, 7, 1, 2, 3, 4]"
      ]
     },
     "execution_count": 24,
     "metadata": {},
     "output_type": "execute_result"
    }
   ],
   "source": [
    "# O(N*k) time and O(1), push and pop\n",
    "def rotate_array1(arr, k):\n",
    "  steps = k % len(arr)\n",
    "  for i in range(steps):\n",
    "    arr.insert(0, arr.pop())\n",
    "  return arr\n",
    "\n",
    "# O(1) time and O(N) space, slice and concatenate\n",
    "def rotate_array2(arr, k):\n",
    "  steps = k % len(arr)\n",
    "  return arr[len(arr) - steps:] + arr[:len(arr) - steps]\n",
    "\n",
    "# O(N) time and O(1) space, recursion\n",
    "def rotate_array3(arr, k):\n",
    "  steps = k % len(arr)\n",
    "\n",
    "  def rotation(arr, steps):\n",
    "    if len(arr) == 0:\n",
    "      return []\n",
    "    if steps == 0:\n",
    "      return arr\n",
    "    if len(arr) < steps:\n",
    "      arr[:] = rotation(arr, len(arr))\n",
    "      arr[:] = rotation(arr, steps - len(arr))\n",
    "    arr.reverse()\n",
    "    arr[:steps] = reversed(arr[:steps])\n",
    "    arr[steps:] = reversed(arr[steps:])\n",
    "    return arr\n",
    "\n",
    "  return rotation(arr, steps)\n",
    "\n",
    "rotate_array3([1, 2, 3, 4, 5, 6, 7], 3)"
   ]
  },
  {
   "cell_type": "markdown",
   "metadata": {},
   "source": [
    "Longest Word"
   ]
  },
  {
   "cell_type": "code",
   "execution_count": 28,
   "metadata": {},
   "outputs": [
    {
     "data": {
      "text/plain": [
       "'time'"
      ]
     },
     "execution_count": 28,
     "metadata": {},
     "output_type": "execute_result"
    }
   ],
   "source": [
    "import re\n",
    "\n",
    "# O(N) time and space, regex matching\n",
    "def longest_word(string):\n",
    "  words = re.findall(\"[a-zA-Z]+\", string)\n",
    "  longest_word = words[0]\n",
    "  for i in range(1, len(words)):\n",
    "    if len(words[i]) > len(longest_word):\n",
    "      longest_word = words[i]\n",
    "  return longest_word\n",
    "\n",
    "longest_word(\"fun&!! time\")"
   ]
  },
  {
   "cell_type": "code",
   "execution_count": null,
   "metadata": {},
   "outputs": [],
   "source": []
  }
 ],
 "metadata": {
  "kernelspec": {
   "display_name": "neg-1",
   "language": "python",
   "name": "python3"
  },
  "language_info": {
   "codemirror_mode": {
    "name": "ipython",
    "version": 3
   },
   "file_extension": ".py",
   "mimetype": "text/x-python",
   "name": "python",
   "nbconvert_exporter": "python",
   "pygments_lexer": "ipython3",
   "version": "undefined.undefined.undefined"
  }
 },
 "nbformat": 4,
 "nbformat_minor": 2
}
