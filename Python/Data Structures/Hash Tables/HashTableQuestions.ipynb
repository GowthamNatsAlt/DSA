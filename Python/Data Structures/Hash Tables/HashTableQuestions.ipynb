{
 "cells": [
  {
   "cell_type": "markdown",
   "metadata": {},
   "source": [
    "First Recurring Character"
   ]
  },
  {
   "cell_type": "code",
   "execution_count": 12,
   "metadata": {},
   "outputs": [
    {
     "data": {
      "text/plain": [
       "2"
      ]
     },
     "execution_count": 12,
     "metadata": {},
     "output_type": "execute_result"
    }
   ],
   "source": [
    "# O(N) time and space using sets and looping\n",
    "def first_recurring_character_1(array):\n",
    "  val = set()\n",
    "  for i in range(len(array)):\n",
    "    if array[i] in val:\n",
    "      return array[i]\n",
    "    else:\n",
    "      val.add(array[i])\n",
    "  return None\n",
    "\n",
    "# O(N) time and space using dictionary and looping\n",
    "def first_recurring_character_2(array):\n",
    "  mapping = dict()\n",
    "  for i in range(len(array)):\n",
    "    if array[i] in mapping:\n",
    "      return array[i]\n",
    "    else:\n",
    "      mapping[array[i]] = i\n",
    "  return None\n",
    "\n",
    "first_recurring_character_2([2, 5, 1, 6, 2, 1])"
   ]
  },
  {
   "cell_type": "markdown",
   "metadata": {},
   "source": [
    "Contains Common Items"
   ]
  },
  {
   "cell_type": "code",
   "execution_count": 7,
   "metadata": {},
   "outputs": [
    {
     "data": {
      "text/plain": [
       "True"
      ]
     },
     "execution_count": 7,
     "metadata": {},
     "output_type": "execute_result"
    }
   ],
   "source": [
    "# O (M * N) time and space using nested loops\n",
    "def contains_common_items_1(arr1, arr2):\n",
    "    for item in arr1:\n",
    "        if item in arr2:\n",
    "            return True\n",
    "    return False\n",
    "  \n",
    "# O (N) time and space complexity \n",
    "def contains_common_items_2(arr1, arr2):\n",
    "    mapping = dict()\n",
    "    for i in range(len(arr1)):\n",
    "      if arr1[i] not in mapping.keys():\n",
    "        mapping[arr1[i]] = True\n",
    "    for j in range(len(arr2)):\n",
    "      if mapping[arr2[j]]:\n",
    "        return True\n",
    "    return False\n",
    "  \n",
    "contains_common_items_2([1, 2, 4, 5], [4, 3,  6, 7])"
   ]
  }
 ],
 "metadata": {
  "kernelspec": {
   "display_name": "neg-1",
   "language": "python",
   "name": "python3"
  },
  "language_info": {
   "codemirror_mode": {
    "name": "ipython",
    "version": 3
   },
   "file_extension": ".py",
   "mimetype": "text/x-python",
   "name": "python",
   "nbconvert_exporter": "python",
   "pygments_lexer": "ipython3",
   "version": "3.10.13"
  }
 },
 "nbformat": 4,
 "nbformat_minor": 2
}
