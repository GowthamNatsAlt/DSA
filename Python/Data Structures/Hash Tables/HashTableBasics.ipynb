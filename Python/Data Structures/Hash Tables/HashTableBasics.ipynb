{
 "cells": [
  {
   "cell_type": "markdown",
   "metadata": {},
   "source": [
    "# Hash Table Initialization"
   ]
  },
  {
   "cell_type": "code",
   "execution_count": 32,
   "metadata": {},
   "outputs": [],
   "source": [
    "class HashTable:\n",
    "  def __init__(self, size):\n",
    "    self.size = size\n",
    "    self.data = [None] * self.size\n",
    "    \n",
    "  # Create hash values -> O(1)\n",
    "  def __hash(self, key):\n",
    "    hash_value = 0\n",
    "    for i in range(0, len(key)):\n",
    "      hash_value = (hash_value + ord(key[i]) * i) % self.size\n",
    "    return hash_value\n",
    "  \n",
    "  # Insertion -> O(1)\n",
    "  def set(self, key, value):\n",
    "    index = self.__hash(key)\n",
    "    if not self.data[index]:\n",
    "      self.data[index] = []\n",
    "    self.data[index].append([key, value])\n",
    "  \n",
    "  # Retrieval, Best case (without collision) -> O(1)\n",
    "  # Worst case (collision) -> O(N)\n",
    "  def get(self, key):\n",
    "    index = self.__hash(key)\n",
    "    current_bucket = self.data[index]\n",
    "    if current_bucket:\n",
    "      for i in range(len(current_bucket)):\n",
    "        if current_bucket[i][0] == key:\n",
    "          return current_bucket[i][1]\n",
    "    return None\n",
    "  \n",
    "  # Fetch keys -> O(N)\n",
    "  def keys(self):\n",
    "    keys_array = []\n",
    "    for i in range(0, self.size):\n",
    "      if self.data[i]:\n",
    "        for j in range(len(self.data[i])):\n",
    "          keys_array.append(self.data[i][j][0])\n",
    "    return keys_array\n",
    "  \n",
    "  def __repr__(self):\n",
    "    return f\"{{Size {self.size}, Data: {self.data}}}\""
   ]
  },
  {
   "cell_type": "code",
   "execution_count": 33,
   "metadata": {},
   "outputs": [
    {
     "name": "stdout",
     "output_type": "stream",
     "text": [
      "1000\n",
      "['Hellow', 'Hello', 'Hell']\n",
      "{Size 2, Data: [[['Hellow', 1000]], [['Hello', 500], ['Hell', 2000]]]}\n"
     ]
    }
   ],
   "source": [
    "hash_table = HashTable(2)\n",
    "hash_table.set(\"Hellow\", 1000)\n",
    "hash_table.set(\"Hello\", 500)\n",
    "hash_table.set(\"Hell\", 2000)\n",
    "print(hash_table.get(\"Hellow\"))\n",
    "print(hash_table.keys())\n",
    "print(hash_table)"
   ]
  },
  {
   "cell_type": "markdown",
   "metadata": {},
   "source": [
    "On occurrence of collisions, usage of linked lists would be preferable"
   ]
  }
 ],
 "metadata": {
  "kernelspec": {
   "display_name": "neg-1",
   "language": "python",
   "name": "python3"
  },
  "language_info": {
   "codemirror_mode": {
    "name": "ipython",
    "version": 3
   },
   "file_extension": ".py",
   "mimetype": "text/x-python",
   "name": "python",
   "nbconvert_exporter": "python",
   "pygments_lexer": "ipython3",
   "version": "3.10.13"
  }
 },
 "nbformat": 4,
 "nbformat_minor": 2
}
